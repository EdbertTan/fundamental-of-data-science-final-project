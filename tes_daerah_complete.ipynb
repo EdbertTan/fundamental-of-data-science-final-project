{
  "cells": [
    {
      "cell_type": "markdown",
      "metadata": {
        "id": "view-in-github",
        "colab_type": "text"
      },
      "source": [
        "<a href=\"https://colab.research.google.com/github/EdbertTan/fundamental-of-data-science-final-project/blob/main/tes_daerah_complete.ipynb\" target=\"_parent\"><img src=\"https://colab.research.google.com/assets/colab-badge.svg\" alt=\"Open In Colab\"/></a>"
      ]
    },
    {
      "cell_type": "code",
      "execution_count": null,
      "metadata": {
        "id": "bd4eHQIap4bS"
      },
      "outputs": [],
      "source": [
        "import pandas\n",
        "from sklearn import linear_model\n",
        "\n",
        "df = pandas.read_csv(\"data aceh.csv\")"
      ]
    },
    {
      "cell_type": "code",
      "source": [
        "import matplotlib.pyplot as plt\n",
        "from scipy import stats\n",
        "from numpy import mean\n",
        "from numpy import std\n",
        "\n",
        "def find_outlier(df, column):\n",
        "    # Find first and third quartile\n",
        "    q1 = df[column].quantile(0.25)\n",
        "    q3 = df[column].quantile(0.75)\n",
        "\n",
        "    # Find interquartile range\n",
        "    IQR = q3 - q1\n",
        "\n",
        "    # Find lower and upper bound\n",
        "    lower_bound = q1 - 0.5 * IQR\n",
        "\n",
        "    upper_bound = q3 + 0.5 * IQR\n",
        "\n",
        "    # Remove outliers\n",
        "    df[column] = df[column][df[column] > lower_bound]\n",
        "    df[column] = df[column][df[column] < upper_bound]\n",
        "\n",
        "    return df[column]\n",
        "\n",
        "df['Rata-Rata'] = find_outlier(df, 'Rata-Rata')\n",
        "df = df.dropna()\n",
        "print(df)"
      ],
      "metadata": {
        "colab": {
          "base_uri": "https://localhost:8080/"
        },
        "id": "oB0EvGKKrTpL",
        "outputId": "36f38d82-d707-4b6c-f419-232ee10bb68f"
      },
      "execution_count": null,
      "outputs": [
        {
          "output_type": "stream",
          "name": "stdout",
          "text": [
            "   Provinsi  Tahun  Rata-Rata\n",
            "0      Aceh   2000      27.18\n",
            "4      Aceh   2004      28.69\n",
            "5      Aceh   2005      26.80\n",
            "6      Aceh   2006      26.73\n",
            "8      Aceh   2008      27.00\n",
            "9      Aceh   2009      26.90\n",
            "10     Aceh   2010      27.10\n",
            "11     Aceh   2011      27.10\n",
            "12     Aceh   2012      26.90\n",
            "13     Aceh   2013      27.00\n",
            "14     Aceh   2014      27.10\n",
            "15     Aceh   2015      27.10\n",
            "16     Aceh   2016      28.23\n",
            "17     Aceh   2017      28.23\n",
            "18     Aceh   2018      27.66\n",
            "19     Aceh   2019      27.97\n",
            "21     Aceh   2021      27.00\n",
            "22     Aceh   2022      27.20\n",
            "23     Aceh   2023      27.00\n"
          ]
        }
      ]
    },
    {
      "cell_type": "code",
      "source": [
        "#Three lines to make our compiler able to draw:\n",
        "import pandas\n",
        "import sys\n",
        "import matplotlib\n",
        "matplotlib.use('Agg')\n",
        "\n",
        "import matplotlib.pyplot as plt\n",
        "from scipy import stats\n",
        "%matplotlib inline\n",
        "\n",
        "x = df['Tahun']\n",
        "y = df['Rata-Rata']\n",
        "\n",
        "\n",
        "slope, intercept, r, p, std_err = stats.linregress(x, y)\n",
        "\n",
        "def myfunc(x):\n",
        "  return slope * x + intercept\n",
        "\n",
        "mymodel = list(map(myfunc, x))\n",
        "\n",
        "plt.scatter(x, y)\n",
        "plt.plot(x, mymodel)\n",
        "plt.show()"
      ],
      "metadata": {
        "colab": {
          "base_uri": "https://localhost:8080/",
          "height": 430
        },
        "id": "q0v8aMiJvfs6",
        "outputId": "7bbeb858-979e-49a6-dcbf-a875590d5e5f"
      },
      "execution_count": null,
      "outputs": [
        {
          "output_type": "display_data",
          "data": {
            "text/plain": [
              "<Figure size 640x480 with 1 Axes>"
            ],
            "image/png": "[encoded data removed]"
          },
          "metadata": {}
        }
      ]
    },
    {
      "cell_type": "code",
      "source": [
        "from scipy import stats\n",
        "\n",
        "slope, intercept, r_value, p_value, std_err = stats.linregress(x, y)\n",
        "\n",
        "print('slope: ',slope)"
      ],
      "metadata": {
        "colab": {
          "base_uri": "https://localhost:8080/"
        },
        "id": "R4aeEZP5mRVa",
        "outputId": "722e0978-82e4-4394-86b7-8ca132535796"
      },
      "execution_count": null,
      "outputs": [
        {
          "output_type": "stream",
          "name": "stdout",
          "text": [
            "slope:  0.009307477288609336\n"
          ]
        }
      ]
    },
    {
      "cell_type": "code",
      "source": [
        "from sklearn.metrics import r2_score\n",
        "r2 = r2_score(y, mymodel)\n",
        "print(r2)"
      ],
      "metadata": {
        "colab": {
          "base_uri": "https://localhost:8080/"
        },
        "id": "kC1NnHCSFpka",
        "outputId": "a715f02c-0141-4a53-fcb4-658d98bbc1df"
      },
      "execution_count": null,
      "outputs": [
        {
          "output_type": "stream",
          "name": "stdout",
          "text": [
            "0.011491319840986391\n"
          ]
        }
      ]
    },
    {
      "cell_type": "code",
      "source": [
        "def myfunc(x):\n",
        "  return slope * x + intercept\n",
        "\n",
        "heatpredict = myfunc(2030)\n",
        "\n",
        "print('predicted heat in 2030: ',heatpredict)"
      ],
      "metadata": {
        "colab": {
          "base_uri": "https://localhost:8080/"
        },
        "id": "MzvigpsG9Go2",
        "outputId": "54c176da-259b-49e2-a275-b51a49a52814"
      },
      "execution_count": null,
      "outputs": [
        {
          "output_type": "stream",
          "name": "stdout",
          "text": [
            "predicted heat in 2030:  27.47018658280922\n"
          ]
        }
      ]
    }
  ],
  "metadata": {
    "colab": {
      "provenance": [],
      "authorship_tag": "ABX9TyNdy47zYtxvKDOo3sppO7eb",
      "include_colab_link": true
    },
    "kernelspec": {
      "display_name": "Python 3",
      "name": "python3"
    },
    "language_info": {
      "name": "python"
    }
  },
  "nbformat": 4,
  "nbformat_minor": 0
}